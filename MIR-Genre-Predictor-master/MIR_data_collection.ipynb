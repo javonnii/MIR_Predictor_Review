{
  "cells": [
    {
      "cell_type": "markdown",
      "metadata": {},
      "source": [
        "## Data collection using Spotipy\n",
        "\n",
        "In this notebook, I will demonstrate how I gathered audio attribute data using the Spotipy package."
      ]
    },
    {
      "cell_type": "code",
      "execution_count": 1,
      "metadata": {},
      "outputs": [],
      "source": [
        "import numpy as np\n",
        "import pandas as pd\n",
        "import re\n",
        "import spotipy\n",
        "from sklearn.utils import shuffle\n",
        "from spotipy import util\n",
        "from spotipy.oauth2 import SpotifyClientCredentials"
      ]
    },
    {
      "cell_type": "markdown",
      "metadata": {},
      "source": [
        "We will import the song datasets from the MIR Genre Predictor notebook. All of the cells below are part of the main notebook, so we will just run through the cells in order to quickly create our songs dataframe, which we will then use to gather audio attributes."
      ]
    },
    {
      "cell_type": "code",
      "execution_count": 2,
      "metadata": {},
      "outputs": [],
      "source": [
        "# Import the song datasets from Ranker, merge them together\n",
        "dfA = pd.read_csv('lyrics1.csv')\n",
        "dfB = pd.read_csv('lyrics2.csv')\n",
        "\n",
        "frames = [dfA, dfB]\n",
        "\n",
        "# Merge the two datasets\n",
        "df_Ranker = pd.concat(frames)\n",
        "\n",
        "# Group the songs by their lyrics\n",
        "groups = ['song', 'year', 'album', 'genre', 'artist', 'ranker_genre']\n",
        "df_Ranker = df_Ranker.sort_values(groups).groupby(groups).lyric.apply(' '.join).apply(lambda x: x.lower()).reset_index(name='lyric')\n",
        "\n",
        "# Clean up the lyrics\n",
        "df_Ranker['lyric'] = df_Ranker['lyric'].str.replace(r'[^\\w\\s]','')"
      ]
    },
    {
      "cell_type": "code",
      "execution_count": 3,
      "metadata": {},
      "outputs": [],
      "source": [
        "# Drop unused columns in Ranker dataset\n",
        "df_Ranker = df_Ranker.drop(['year', 'album', 'genre'], axis=1) # We will be using the 'ranker_genre' column instead of 'genre'\n",
        "\n",
        "# Rename 'ranker_genre' column to 'genre' in Ranker dataset\n",
        "df_Ranker = df_Ranker.rename(index=str, columns={'ranker_genre': 'genre', 'lyric': 'lyrics'})"
      ]
    },
    {
      "cell_type": "code",
      "execution_count": 4,
      "metadata": {},
      "outputs": [],
      "source": [
        "# Import the song dataset from Kaggle\n",
        "df_Kaggle = pd.read_csv('songdata1.csv', dtype={'song': str, 'year': str, 'artist': str, 'genre': str, 'lyrics': str})\n",
        "\n",
        "# Clean lyrics text\n",
        "df_Kaggle['lyrics'] = df_Kaggle['lyrics'].str.replace(r'[^\\w\\s]','')\n",
        "df_Kaggle['lyrics'] = df_Kaggle['lyrics'].str.replace('\\n', ' ')\n",
        "df_Kaggle['lyrics'] = df_Kaggle['lyrics'].str.lower()\n",
        "\n",
        "# Replace dash chars with space chars\n",
        "df_Kaggle['song'] = df_Kaggle['song'].str.replace('-', ' ')\n",
        "df_Kaggle['artist'] = df_Kaggle['artist'].str.replace('-', ' ')\n",
        "\n",
        "# Drop unused columns in Kaggle dataset\n",
        "df_Kaggle = df_Kaggle.drop(['year'], axis=1)"
      ]
    },
    {
      "cell_type": "code",
      "execution_count": 5,
      "metadata": {},
      "outputs": [],
      "source": [
        "# Merge!\n",
        "frames = [df_Ranker, df_Kaggle]\n",
        "songsdf = pd.concat(frames)\n",
        "\n",
        "# Make 'song' and 'artist' columns lowercase\n",
        "songsdf['song'] = songsdf['song'].str.lower()\n",
        "songsdf['artist'] = songsdf['artist'].str.lower()"
      ]
    },
    {
      "cell_type": "code",
      "execution_count": 6,
      "metadata": {},
      "outputs": [],
      "source": [
        "# Group some of the genres together from the Ranker dataset\n",
        "\n",
        "# hip hop\n",
        "songsdf['genre'] = np.where((songsdf['genre'] == 'Hip Hop')|\n",
        "                                   (songsdf['genre'] == 'Hip-Hop')|\n",
        "                                   (songsdf['genre'] == 'rhythm and blues')|\n",
        "                                   (songsdf['genre'] == 'R&B'),\n",
        "                                   'hip hop', \n",
        "                                   songsdf['genre'])\n",
        "\n",
        "# punk/metal\n",
        "songsdf['genre'] = np.where((songsdf['genre'] == 'screamo')|\n",
        "                                   (songsdf['genre'] == 'punk rock')|\n",
        "                                   (songsdf['genre'] == 'heavy metal')|\n",
        "                                   (songsdf['genre'] == 'Metal'), \n",
        "                                   'punk/metal', \n",
        "                                   songsdf['genre'])\n",
        "\n",
        "# country/folk/rock\n",
        "songsdf['genre'] = np.where((songsdf['genre'] == 'Country')|\n",
        "                                   (songsdf['genre'] == 'indie folk')|\n",
        "                                   (songsdf['genre'] == 'Folk')|\n",
        "                                   (songsdf['genre'] == 'Indie')|\n",
        "                                   (songsdf['genre'] == 'classic rock'),\n",
        "                                   'country/folk/rock', \n",
        "                                   songsdf['genre'])\n",
        "\n",
        "songsdf['lyrics'] = songsdf['lyrics'].astype(str)\n",
        "\n",
        "# Drop genres that are difficult to classify\n",
        "songsdf = songsdf.drop(songsdf[(songsdf['lyrics'] == 'nan')|\n",
        "                               (songsdf['genre'] == 'Other')|\n",
        "                               (songsdf['genre'] == ' Alkebulan')|\n",
        "                               (songsdf['genre'] == 'Not Available')|\n",
        "                               (songsdf['genre'] == 'nan')|\n",
        "                               (songsdf['genre'] == 'Electronic')|\n",
        "                               (songsdf['genre'] == 'Pop')|\n",
        "                               (songsdf['genre'] == 'pop')|\n",
        "                               (songsdf['genre'] == 'Rock')|\n",
        "                               (songsdf['genre'] == 'Jazz')].index)\n",
        "\n",
        "# Our resulting classifications\n",
        "genres = ['hip hop', 'punk/metal','country/folk/rock']"
      ]
    },
    {
      "cell_type": "markdown",
      "metadata": {},
      "source": [
        "Now that the songs dataframe is merged and cleaned, let's run through a gentle introduction of the Spotipy package."
      ]
    },
    {
      "cell_type": "markdown",
      "metadata": {},
      "source": [
        "## An introduction to Spotipy"
      ]
    },
    {
      "cell_type": "markdown",
      "metadata": {},
      "source": [
        "We need to authorize this application with my Spotify account so we can receive song data."
      ]
    },
    {
      "cell_type": "code",
      "execution_count": 7,
      "metadata": {},
      "outputs": [],
      "source": [
        "client_credentials_manager = SpotifyClientCredentials(client_id='48315eb344ba44bb984931130013905c',\n",
        "                                                      client_secret='secret key here')\n",
        "\n",
        "sp = spotipy.Spotify(client_credentials_manager=client_credentials_manager)"
      ]
    },
    {
      "cell_type": "markdown",
      "metadata": {},
      "source": [
        "Once we are authorized, we are able to retrieve song data. In the example below, we will get audio attributes from the song 'Love Lockdown' by Kanye West. The next example retrieves genres from the band Earth, Wind & Fire."
      ]
    },
    {
      "cell_type": "code",
      "execution_count": 8,
      "metadata": {},
      "outputs": [
        {
          "data": {
            "text/plain": [
              "[{'danceability': 0.756,\n",
              "  'energy': 0.529,\n",
              "  'key': 1,\n",
              "  'loudness': -7.659,\n",
              "  'mode': 0,\n",
              "  'speechiness': 0.0329,\n",
              "  'acousticness': 0.0539,\n",
              "  'instrumentalness': 0.392,\n",
              "  'liveness': 0.112,\n",
              "  'valence': 0.123,\n",
              "  'tempo': 119.573,\n",
              "  'type': 'audio_features',\n",
              "  'id': '1kxeWHF9PrCVZHvVskv8lg',\n",
              "  'uri': 'spotify:track:1kxeWHF9PrCVZHvVskv8lg',\n",
              "  'track_href': 'https://api.spotify.com/v1/tracks/1kxeWHF9PrCVZHvVskv8lg',\n",
              "  'analysis_url': 'https://api.spotify.com/v1/audio-analysis/1kxeWHF9PrCVZHvVskv8lg',\n",
              "  'duration_ms': 270307,\n",
              "  'time_signature': 4}]"
            ]
          },
          "execution_count": 8,
          "metadata": {},
          "output_type": "execute_result"
        }
      ],
      "source": [
        "artist = 'kanye west'\n",
        "track = 'love lockdown'\n",
        "\n",
        "# Search for song, get the first result's id\n",
        "results = sp.search(artist + ' ' + track)\n",
        "track_id = results['tracks']['items'][0]['id']\n",
        "\n",
        "# Use id to find audio features of song\n",
        "sp.audio_features(tracks = [track_id])"
      ]
    },
    {
      "cell_type": "code",
      "execution_count": 9,
      "metadata": {},
      "outputs": [
        {
          "data": {
            "text/plain": [
              "['disco', 'funk', 'jazz funk', 'motown', 'quiet storm', 'soul']"
            ]
          },
          "execution_count": 9,
          "metadata": {},
          "output_type": "execute_result"
        }
      ],
      "source": [
        "artist = 'earth, wind & fire'\n",
        "\n",
        "# Search for an artist, get the first result's artist id\n",
        "results = sp.search(q = 'artist:' + artist)\n",
        "artist_id = str(results['tracks']['items'][0]['artists']).split(\"'id': '\",1)[1].split(\"', 'name\")[0]\n",
        "\n",
        "# Use artist id to find artist details and get the list of genres\n",
        "sp.artist(artist_id)['genres']"
      ]
    },
    {
      "cell_type": "markdown",
      "metadata": {},
      "source": [
        "Now that we understand the basic functions of the Spotipy package, lets use it to gather audio features for the songs in our songs dataframe. I used this process to populate the dataset used in the MIR Genre Predictor notebook."
      ]
    },
    {
      "cell_type": "markdown",
      "metadata": {},
      "source": [
        "## Fetching the audio feature attributes\n",
        "\n",
        "First, we will create a new dataframe that will hold the audio attributes of each song in songsdf."
      ]
    },
    {
      "cell_type": "code",
      "execution_count": 10,
      "metadata": {},
      "outputs": [
        {
          "data": {
            "text/html": [
              "<div>\n",
              "<style scoped>\n",
              "    .dataframe tbody tr th:only-of-type {\n",
              "        vertical-align: middle;\n",
              "    }\n",
              "\n",
              "    .dataframe tbody tr th {\n",
              "        vertical-align: top;\n",
              "    }\n",
              "\n",
              "    .dataframe thead th {\n",
              "        text-align: right;\n",
              "    }\n",
              "</style>\n",
              "<table border=\"1\" class=\"dataframe\">\n",
              "  <thead>\n",
              "    <tr style=\"text-align: right;\">\n",
              "      <th></th>\n",
              "      <th>track</th>\n",
              "      <th>artist</th>\n",
              "      <th>genre</th>\n",
              "      <th>danceability</th>\n",
              "      <th>energy</th>\n",
              "      <th>key</th>\n",
              "      <th>loudness</th>\n",
              "      <th>mode</th>\n",
              "      <th>speechiness</th>\n",
              "      <th>acousticness</th>\n",
              "      <th>instrumentalness</th>\n",
              "      <th>liveness</th>\n",
              "      <th>valence</th>\n",
              "      <th>tempo</th>\n",
              "      <th>duration_ms</th>\n",
              "      <th>time_signature</th>\n",
              "    </tr>\n",
              "  </thead>\n",
              "  <tbody>\n",
              "  </tbody>\n",
              "</table>\n",
              "</div>"
            ],
            "text/plain": [
              "Empty DataFrame\n",
              "Columns: [track, artist, genre, danceability, energy, key, loudness, mode, speechiness, acousticness, instrumentalness, liveness, valence, tempo, duration_ms, time_signature]\n",
              "Index: []"
            ]
          },
          "execution_count": 10,
          "metadata": {},
          "output_type": "execute_result"
        }
      ],
      "source": [
        "attrdf = pd.DataFrame(columns = ['track', 'artist', 'genre', 'danceability', 'energy', 'key', 'loudness', 'mode', 'speechiness', 'acousticness', 'instrumentalness', 'liveness', 'valence', 'tempo', 'duration_ms', 'time_signature'])\n",
        "attrdf"
      ]
    },
    {
      "cell_type": "markdown",
      "metadata": {},
      "source": [
        "Then, we will iterate through songsdf, find all the audio attributes for each song, and put each song and its attributes in attrdf. We can then save attrdf to a .csv file to be used in other instances."
      ]
    },
    {
      "cell_type": "code",
      "execution_count": 13,
      "metadata": {},
      "outputs": [
      ],
      "source": [
        "# Since this code was ran several times over the course of this project, I shuffled songsdf each time to \n",
        "# reduce the likelihood of getting duplicates in my overall data once it's merged together.\n",
        "songsdf = shuffle(songsdf)\n",
        "\n",
        "progcounter, updatecounter, totalcount = 0, 0, 0\n",
        "length = len(songsdf)\n",
        "\n",
        "for index, row in songsdf.iterrows():\n",
        "    # Get the artist, track, and genre of each song in songsdf\n",
        "    artist = row['artist'].strip()\n",
        "    track = row['song'].strip()\n",
        "    genre = row['genre']\n",
        "\n",
        "    progcounter += 1\n",
        "    updatecounter += 1\n",
        "    \n",
        "    # Search for song, get the first result's id\n",
        "    results = sp.search(artist + ' ' + track)\n",
        "    \n",
        "    try:\n",
        "        track_id = results['tracks']['items'][0]['id']\n",
        "        # Use id to find audio features of song\n",
        "        features = sp.audio_features(tracks = [track_id])\n",
        "        \n",
        "        # Parse features to find each attribute\n",
        "        danceability = features[0]['danceability']\n",
        "        energy = features[0]['energy']\n",
        "        key = features[0]['key']\n",
        "        loudness = features[0]['loudness']\n",
        "        mode = features[0]['mode']\n",
        "        speechiness = features[0]['speechiness']\n",
        "        acousticness = features[0]['acousticness']\n",
        "        instrumentalness = features[0]['instrumentalness']\n",
        "        liveness = features[0]['liveness']\n",
        "        valence = features[0]['valence']\n",
        "        tempo = features[0]['tempo']\n",
        "        duration_ms = features[0]['duration_ms']\n",
        "        time_signature = features[0]['time_signature']\n",
        "        \n",
        "        # Create a new row to be added to attrdf, then add it\n",
        "        cols = [track, artist, genre, danceability, energy, key, loudness, mode, speechiness, acousticness, instrumentalness, liveness, valence, tempo, duration_ms, time_signature]\n",
        "        attrdf.loc[totalcount] = cols\n",
        "        totalcount += 1\n",
        "    except:\n",
        "        pass\n",
        "    \n",
        "    # Progress counter\n",
        "    if updatecounter == 500:\n",
        "        updatecounter = 0\n",
        "        print('----    progress: {0:.3g}%, song count:'.format(progcounter/length), totalcount)\n",
        "\n",
        "print('Done -', totalcount, 'songs added.')\n",
        "\n",
        "\n",
        "# Commented out code below saves attrdf to a csv file, this way we can use \n",
        "# data gathered from this notebook in other notebooks\n",
        "\n",
        "# attrdf.to_csv('songfeaturedata.csv', encoding='utf-8', index=False)"
      ]
    },
    {
      "cell_type": "code",
      "execution_count": null,
      "metadata": {},
      "outputs": [],
      "source": []
    }
  ],
  "metadata": {
    "kernelspec": {
      "display_name": "Python 3",
      "language": "python",
      "name": "python3"
    },
    "language_info": {
      "codemirror_mode": {
        "name": "ipython",
        "version": 3
      },
      "file_extension": ".py",
      "mimetype": "text/x-python",
      "name": "python",
      "nbconvert_exporter": "python",
      "pygments_lexer": "ipython3",
      "version": "3.7.3"
    }
  },
  "nbformat": 4,
  "nbformat_minor": 2
}
